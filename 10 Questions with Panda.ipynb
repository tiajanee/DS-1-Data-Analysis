{
 "cells": [
  {
   "cell_type": "code",
   "execution_count": 3,
   "metadata": {
    "collapsed": true
   },
   "outputs": [],
   "source": []
  },
  {
   "cell_type": "code",
   "execution_count": 9,
   "metadata": {},
   "outputs": [
    {
     "data": {
      "text/html": [
       "<div>\n",
       "<style>\n",
       "    .dataframe thead tr:only-child th {\n",
       "        text-align: right;\n",
       "    }\n",
       "\n",
       "    .dataframe thead th {\n",
       "        text-align: left;\n",
       "    }\n",
       "\n",
       "    .dataframe tbody tr th {\n",
       "        vertical-align: top;\n",
       "    }\n",
       "</style>\n",
       "<table border=\"1\" class=\"dataframe\">\n",
       "  <thead>\n",
       "    <tr style=\"text-align: right;\">\n",
       "      <th></th>\n",
       "      <th>PassengerId</th>\n",
       "      <th>Survived</th>\n",
       "      <th>Pclass</th>\n",
       "      <th>Age</th>\n",
       "      <th>SibSp</th>\n",
       "      <th>Parch</th>\n",
       "      <th>Fare</th>\n",
       "    </tr>\n",
       "  </thead>\n",
       "  <tbody>\n",
       "    <tr>\n",
       "      <th>count</th>\n",
       "      <td>891.000000</td>\n",
       "      <td>891.000000</td>\n",
       "      <td>891.000000</td>\n",
       "      <td>714.000000</td>\n",
       "      <td>891.000000</td>\n",
       "      <td>891.000000</td>\n",
       "      <td>891.000000</td>\n",
       "    </tr>\n",
       "    <tr>\n",
       "      <th>mean</th>\n",
       "      <td>446.000000</td>\n",
       "      <td>0.383838</td>\n",
       "      <td>2.308642</td>\n",
       "      <td>29.699118</td>\n",
       "      <td>0.523008</td>\n",
       "      <td>0.381594</td>\n",
       "      <td>32.204208</td>\n",
       "    </tr>\n",
       "    <tr>\n",
       "      <th>std</th>\n",
       "      <td>257.353842</td>\n",
       "      <td>0.486592</td>\n",
       "      <td>0.836071</td>\n",
       "      <td>14.526497</td>\n",
       "      <td>1.102743</td>\n",
       "      <td>0.806057</td>\n",
       "      <td>49.693429</td>\n",
       "    </tr>\n",
       "    <tr>\n",
       "      <th>min</th>\n",
       "      <td>1.000000</td>\n",
       "      <td>0.000000</td>\n",
       "      <td>1.000000</td>\n",
       "      <td>0.420000</td>\n",
       "      <td>0.000000</td>\n",
       "      <td>0.000000</td>\n",
       "      <td>0.000000</td>\n",
       "    </tr>\n",
       "    <tr>\n",
       "      <th>25%</th>\n",
       "      <td>223.500000</td>\n",
       "      <td>0.000000</td>\n",
       "      <td>2.000000</td>\n",
       "      <td>20.125000</td>\n",
       "      <td>0.000000</td>\n",
       "      <td>0.000000</td>\n",
       "      <td>7.910400</td>\n",
       "    </tr>\n",
       "    <tr>\n",
       "      <th>50%</th>\n",
       "      <td>446.000000</td>\n",
       "      <td>0.000000</td>\n",
       "      <td>3.000000</td>\n",
       "      <td>28.000000</td>\n",
       "      <td>0.000000</td>\n",
       "      <td>0.000000</td>\n",
       "      <td>14.454200</td>\n",
       "    </tr>\n",
       "    <tr>\n",
       "      <th>75%</th>\n",
       "      <td>668.500000</td>\n",
       "      <td>1.000000</td>\n",
       "      <td>3.000000</td>\n",
       "      <td>38.000000</td>\n",
       "      <td>1.000000</td>\n",
       "      <td>0.000000</td>\n",
       "      <td>31.000000</td>\n",
       "    </tr>\n",
       "    <tr>\n",
       "      <th>max</th>\n",
       "      <td>891.000000</td>\n",
       "      <td>1.000000</td>\n",
       "      <td>3.000000</td>\n",
       "      <td>80.000000</td>\n",
       "      <td>8.000000</td>\n",
       "      <td>6.000000</td>\n",
       "      <td>512.329200</td>\n",
       "    </tr>\n",
       "  </tbody>\n",
       "</table>\n",
       "</div>"
      ],
      "text/plain": [
       "       PassengerId    Survived      Pclass         Age       SibSp  \\\n",
       "count   891.000000  891.000000  891.000000  714.000000  891.000000   \n",
       "mean    446.000000    0.383838    2.308642   29.699118    0.523008   \n",
       "std     257.353842    0.486592    0.836071   14.526497    1.102743   \n",
       "min       1.000000    0.000000    1.000000    0.420000    0.000000   \n",
       "25%     223.500000    0.000000    2.000000   20.125000    0.000000   \n",
       "50%     446.000000    0.000000    3.000000   28.000000    0.000000   \n",
       "75%     668.500000    1.000000    3.000000   38.000000    1.000000   \n",
       "max     891.000000    1.000000    3.000000   80.000000    8.000000   \n",
       "\n",
       "            Parch        Fare  \n",
       "count  891.000000  891.000000  \n",
       "mean     0.381594   32.204208  \n",
       "std      0.806057   49.693429  \n",
       "min      0.000000    0.000000  \n",
       "25%      0.000000    7.910400  \n",
       "50%      0.000000   14.454200  \n",
       "75%      0.000000   31.000000  \n",
       "max      6.000000  512.329200  "
      ]
     },
     "execution_count": 9,
     "metadata": {},
     "output_type": "execute_result"
    }
   ],
   "source": [
    "import pandas as pd\n",
    "import numpy as np\n",
    "import matplotlib.pyplot as plt\n",
    "%matplotlib inline\n",
    "np.random.seed(1547)\n",
    "\n",
    "path = \"datasets/titanic.csv\"\n",
    "titanic_df = pd.read_csv(path)  # store the newly created dataframe in this variable\n",
    "titanic_df.describe()"
   ]
  },
  {
   "cell_type": "code",
   "execution_count": 11,
   "metadata": {},
   "outputs": [
    {
     "data": {
      "text/plain": [
       "PassengerId    0.735849\n",
       "Survived       0.735849\n",
       "Pclass         0.735849\n",
       "Name           0.735849\n",
       "Sex            0.735849\n",
       "Age            0.750000\n",
       "SibSp          0.735849\n",
       "Parch          0.735849\n",
       "Ticket         0.735849\n",
       "Fare           0.735849\n",
       "Cabin          0.720930\n",
       "Embarked       0.735849\n",
       "dtype: float64"
      ]
     },
     "execution_count": 11,
     "metadata": {},
     "output_type": "execute_result"
    }
   ],
   "source": [
    "#Given that a passenger paid over $100 for their ticket, what is the chance they survived?\n",
    "\n",
    "fare = titanic_df[(titanic_df[\"Fare\"] > 100.0)].count()\n",
    "fare_surive = titanic_df[(titanic_df[\"Fare\"] > 100.0) & (titanic_df[\"Survived\"] == 1)].count()\n",
    "chance = (fare_surive/fare)\n",
    "chance\n"
   ]
  },
  {
   "cell_type": "code",
   "execution_count": 14,
   "metadata": {},
   "outputs": [
    {
     "data": {
      "text/plain": [
       "PassengerId    0.226667\n",
       "Survived       0.226667\n",
       "Pclass         0.226667\n",
       "Name           0.226667\n",
       "Sex            0.226667\n",
       "Age            0.226667\n",
       "SibSp          0.226667\n",
       "Parch          0.226667\n",
       "Ticket         0.226667\n",
       "Fare           0.226667\n",
       "Cabin          0.015152\n",
       "Embarked       0.228188\n",
       "dtype: float64"
      ]
     },
     "execution_count": 14,
     "metadata": {},
     "output_type": "execute_result"
    }
   ],
   "source": [
    "#Given that a passenger was over 40, what are the odds he was middle class\n",
    "\n",
    "age = titanic_df[(titanic_df[\"Age\"] > 40)].count()\n",
    "age_middle = titanic_df[(titanic_df[\"Age\"] > 40) & (titanic_df[\"Pclass\"] == 2)].count()\n",
    "chance = (age_middle/age)\n",
    "chance\n"
   ]
  },
  {
   "cell_type": "code",
   "execution_count": 16,
   "metadata": {},
   "outputs": [
    {
     "data": {
      "text/plain": [
       "PassengerId    0.356098\n",
       "Survived       0.356098\n",
       "Pclass         0.356098\n",
       "Name           0.356098\n",
       "Sex            0.356098\n",
       "Age            0.356098\n",
       "SibSp          0.356098\n",
       "Parch          0.356098\n",
       "Ticket         0.356098\n",
       "Fare           0.356098\n",
       "Cabin          0.888889\n",
       "Embarked       0.356098\n",
       "dtype: float64"
      ]
     },
     "execution_count": 16,
     "metadata": {},
     "output_type": "execute_result"
    }
   ],
   "source": [
    "#Given that a passenger is under 30 but over 20, what are the chances that they are in first class?\n",
    "\n",
    "age = titanic_df[(titanic_df[\"Age\"] > 20) & (titanic_df[\"Age\"] < 30)].count()\n",
    "age_class = age & (titanic_df[\"Pclass\"] == 1).count()\n",
    "chance = (age_class/age)\n",
    "chance"
   ]
  },
  {
   "cell_type": "code",
   "execution_count": 20,
   "metadata": {},
   "outputs": [
    {
     "data": {
      "text/plain": [
       "PassengerId    0.407407\n",
       "Survived       0.407407\n",
       "Pclass         0.407407\n",
       "Name           0.407407\n",
       "Sex            0.407407\n",
       "Age            0.311828\n",
       "SibSp          0.407407\n",
       "Parch          0.407407\n",
       "Ticket         0.407407\n",
       "Fare           0.407407\n",
       "Cabin          0.272727\n",
       "Embarked       0.383178\n",
       "dtype: float64"
      ]
     },
     "execution_count": 20,
     "metadata": {},
     "output_type": "execute_result"
    }
   ],
   "source": [
    "#Given that  a passenger is in 1st class, what are the chances that they paid less than 50$ for their ticket\n",
    "\n",
    "pclass = titanic_df[(titanic_df[\"Pclass\"] == 1)].count()\n",
    "fare_pclass = pclass & (titanic_df[\"Fare\"] < 50.0).count()\n",
    "chance = (fare_pclass/pclass)\n",
    "chance"
   ]
  },
  {
   "cell_type": "code",
   "execution_count": 22,
   "metadata": {},
   "outputs": [
    {
     "data": {
      "text/plain": [
       "PassengerId    0.428571\n",
       "Survived       0.428571\n",
       "Pclass         0.428571\n",
       "Name           0.428571\n",
       "Sex            0.428571\n",
       "Age                 NaN\n",
       "SibSp          0.428571\n",
       "Parch          0.428571\n",
       "Ticket         0.428571\n",
       "Fare           0.428571\n",
       "Cabin               NaN\n",
       "Embarked       0.428571\n",
       "dtype: float64"
      ]
     },
     "execution_count": 22,
     "metadata": {},
     "output_type": "execute_result"
    }
   ],
   "source": [
    "#Given a passenger had over 5 siblings, what are the odds of their survival.\n",
    "\n",
    "sib = titanic_df[(titanic_df[\"SibSp\"] > 5)].count()\n",
    "sib_survive = sib & (titanic_df[\"Survived\"] == 1).count()\n",
    "chance = (sib_survive/sib)\n",
    "chance"
   ]
  },
  {
   "cell_type": "code",
   "execution_count": 26,
   "metadata": {},
   "outputs": [
    {
     "data": {
      "text/plain": [
       "PassengerId    0.988304\n",
       "Survived       0.988304\n",
       "Pclass         0.988304\n",
       "Name           0.988304\n",
       "Sex            0.988304\n",
       "Age            1.000000\n",
       "SibSp          0.988304\n",
       "Parch          0.988304\n",
       "Ticket         0.988304\n",
       "Fare           0.988304\n",
       "Cabin          0.058824\n",
       "Embarked       0.988235\n",
       "dtype: float64"
      ]
     },
     "execution_count": 26,
     "metadata": {},
     "output_type": "execute_result"
    }
   ],
   "source": [
    "#Given that a passenger survived, what are the odds their age is under 18?\n",
    "\n",
    "survive = titanic_df[(titanic_df[\"Survived\"] == 1)].count()\n",
    "age_survive = survive & (titanic_df[\"Age\"] > 18).count()\n",
    "chance = (age_survive/survive)\n",
    "chance\n"
   ]
  },
  {
   "cell_type": "code",
   "execution_count": 28,
   "metadata": {},
   "outputs": [
    {
     "data": {
      "text/plain": [
       "PassengerId    0.988304\n",
       "Survived       0.988304\n",
       "Pclass         0.988304\n",
       "Name           0.988304\n",
       "Sex            0.988304\n",
       "Age            1.000000\n",
       "SibSp          0.988304\n",
       "Parch          0.988304\n",
       "Ticket         0.988304\n",
       "Fare           0.988304\n",
       "Cabin          0.058824\n",
       "Embarked       0.988235\n",
       "dtype: float64"
      ]
     },
     "execution_count": 28,
     "metadata": {},
     "output_type": "execute_result"
    }
   ],
   "source": [
    "#Given that a passenger survived, what are the chances they were 2nd class?\n",
    "\n",
    "survive = titanic_df[(titanic_df[\"Survived\"] == 1)].count()\n",
    "class_survive = survive & (titanic_df[\"Pclass\"] == 2).count()\n",
    "chance = (class_survive/survive)\n",
    "chance\n",
    "\n"
   ]
  },
  {
   "cell_type": "code",
   "execution_count": 34,
   "metadata": {},
   "outputs": [
    {
     "ename": "TypeError",
     "evalue": "count() takes exactly one argument (0 given)",
     "output_type": "error",
     "traceback": [
      "\u001b[0;31m---------------------------------------------------------------------------\u001b[0m",
      "\u001b[0;31mTypeError\u001b[0m                                 Traceback (most recent call last)",
      "\u001b[0;32m<ipython-input-34-f311efdcdd74>\u001b[0m in \u001b[0;36m<module>\u001b[0;34m()\u001b[0m\n\u001b[1;32m      2\u001b[0m \u001b[0;34m\u001b[0m\u001b[0m\n\u001b[1;32m      3\u001b[0m \u001b[0mmale\u001b[0m \u001b[0;34m=\u001b[0m \u001b[0mtitanic_df\u001b[0m\u001b[0;34m[\u001b[0m\u001b[0;34m(\u001b[0m\u001b[0mtitanic_df\u001b[0m\u001b[0;34m[\u001b[0m\u001b[0;34m\"Sex\"\u001b[0m\u001b[0;34m]\u001b[0m \u001b[0;34m==\u001b[0m \u001b[0;34m\"male\"\u001b[0m\u001b[0;34m)\u001b[0m\u001b[0;34m]\u001b[0m\u001b[0;34m.\u001b[0m\u001b[0mcount\u001b[0m\u001b[0;34m(\u001b[0m\u001b[0;34m)\u001b[0m\u001b[0;34m\u001b[0m\u001b[0m\n\u001b[0;32m----> 4\u001b[0;31m \u001b[0mmale_age\u001b[0m \u001b[0;34m=\u001b[0m \u001b[0mmale\u001b[0m \u001b[0;34m&\u001b[0m \u001b[0;34m[\u001b[0m\u001b[0;34m(\u001b[0m\u001b[0mtitanic_df\u001b[0m\u001b[0;34m[\u001b[0m\u001b[0;34m\"Age\"\u001b[0m\u001b[0;34m]\u001b[0m \u001b[0;34m<\u001b[0m \u001b[0;36m20.0\u001b[0m\u001b[0;34m)\u001b[0m\u001b[0;34m]\u001b[0m\u001b[0;34m.\u001b[0m\u001b[0mcount\u001b[0m\u001b[0;34m(\u001b[0m\u001b[0;34m)\u001b[0m\u001b[0;34m\u001b[0m\u001b[0m\n\u001b[0m\u001b[1;32m      5\u001b[0m \u001b[0mchance\u001b[0m \u001b[0;34m=\u001b[0m \u001b[0;34m(\u001b[0m\u001b[0mmale_age\u001b[0m\u001b[0;34m/\u001b[0m\u001b[0mmale\u001b[0m\u001b[0;34m)\u001b[0m\u001b[0;34m\u001b[0m\u001b[0m\n\u001b[1;32m      6\u001b[0m \u001b[0mchance\u001b[0m\u001b[0;34m\u001b[0m\u001b[0m\n",
      "\u001b[0;31mTypeError\u001b[0m: count() takes exactly one argument (0 given)"
     ]
    }
   ],
   "source": [
    "#Given that a passenger was male, what is the probability that he was younger than 20?\n",
    "\n",
    "male = titanic_df[(titanic_df[\"Sex\"] == \"male\")].count()\n",
    "male_age = male & (titanic_df[\"Age\"] < 20.0).count()\n",
    "chance = (male_age/male)\n",
    "chance"
   ]
  }
 ],
 "metadata": {
  "kernelspec": {
   "display_name": "Python 3",
   "language": "python",
   "name": "python3"
  },
  "language_info": {
   "codemirror_mode": {
    "name": "ipython",
    "version": 3
   },
   "file_extension": ".py",
   "mimetype": "text/x-python",
   "name": "python",
   "nbconvert_exporter": "python",
   "pygments_lexer": "ipython3",
   "version": "3.6.3"
  }
 },
 "nbformat": 4,
 "nbformat_minor": 2
}
